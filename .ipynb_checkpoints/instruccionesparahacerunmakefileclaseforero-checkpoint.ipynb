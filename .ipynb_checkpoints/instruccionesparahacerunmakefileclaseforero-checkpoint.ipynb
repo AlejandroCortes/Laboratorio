{
 "metadata": {
  "name": "",
  "signature": "sha256:961ccff95ef91af0cf9eca6d63abd7a263d286b424edd423c66f992d4adef067"
 },
 "nbformat": 3,
 "nbformat_minor": 0,
 "worksheets": [
  {
   "cells": [
    {
     "cell_type": "heading",
     "level": 1,
     "metadata": {},
     "source": [
      "Clase de forero sobre c\u00f3mo hacer makefiles"
     ]
    },
    {
     "cell_type": "heading",
     "level": 2,
     "metadata": {},
     "source": [
      "\u00bfC\u00f3mo funciona make?\n"
     ]
    },
    {
     "cell_type": "markdown",
     "metadata": {},
     "source": [
      "1) Cuando en la consola ejecuto el comando \"make\""
     ]
    },
    {
     "cell_type": "markdown",
     "metadata": {},
     "source": [
      "2) El computador me busca el archivo makefile\n"
     ]
    },
    {
     "cell_type": "markdown",
     "metadata": {},
     "source": [
      "3) Este archivo me compara fechas de actualizaci\u00f3n entre archivos que yo tenga en este makefile, y ejecuta acciones que yo le impongo si no tienen la misma fecha de actualizaci\u00f3n\n"
     ]
    },
    {
     "cell_type": "markdown",
     "metadata": {},
     "source": [
      "4) En ocasiones, cuando tengo m\u00e1s de un makefile debo usar el comando \"make -f nombre_del_makefile\""
     ]
    },
    {
     "cell_type": "heading",
     "level": 3,
     "metadata": {},
     "source": [
      "\u00bfC\u00f3mo escribo un archivo makefile?"
     ]
    },
    {
     "cell_type": "markdown",
     "metadata": {},
     "source": [
      "1) Escriba en consola \"emacs make_file &\""
     ]
    },
    {
     "cell_type": "markdown",
     "metadata": {},
     "source": [
      "2) Recuerde que si alguien solo va a poner en consola el comando \"make\", usted debe llamar al archivo \"makefile\" y no de otra forma, a menos que el que ejecute el \"make\" sepa como se llama el makefile."
     ]
    },
    {
     "cell_type": "markdown",
     "metadata": {},
     "source": [
      "Al abrir el emacs... podemos escribir lo siguiente..."
     ]
    },
    {
     "cell_type": "markdown",
     "metadata": {},
     "source": [
      "```\n",
      "target1.dat:    requirement1.dat  \n",
      "    echo \"compared to target1.dat, the file requirement1.dat has benn recently changed\"\n",
      "    touch target 1.dat\n",
      "```"
     ]
    },
    {
     "cell_type": "markdown",
     "metadata": {},
     "source": [
      "esto significa: comp\u00e1reme las fechas de actualizaci\u00f3n de target1.dat y de requierement.dat, si la del target1.dat es m\u00e1s vieja que la del requirement1.dat, entonces escribame \"compared to target1.dat, the file requirement1.dat has benn recently changed\" y haga el comando \"touch\" en archivo target1.dat, este comando touch me actualiza la fecha del archivo o lo crea si no existe.  \n",
      "\n",
      "Tanto el \"echo\" como el \"touch\" son los comandos, al escribirlos en el makefile estos deben estar identados (espichar la tecla tab una sola vez)"
     ]
    },
    {
     "cell_type": "markdown",
     "metadata": {},
     "source": [
      "Para explicar mejor:  \n",
      "\n",
      "digamos que tengo una gr\u00e1fica que es realizada por la ejecuci\u00f3n de un archivo en python, entonces si yo actualizo el archivo python la grafica ya estar\u00e1 desactualizada con respecto a los cambios nuevos.   \n",
      "\n",
      "requirement ... programa en python  \n",
      "target... la grafica que depende del programa en python  \n",
      "\n",
      "siempre el target es un archivo que depende del requirement"
     ]
    },
    {
     "cell_type": "markdown",
     "metadata": {},
     "source": [
      "```\n",
      "grafica.png:    graficador.py\n",
      "    echo \"la gr\u00e1fica esta actualizada\"\n",
      "    python graficador.py\n",
      "```\n",
      "\n",
      "si el graficador esta m\u00e1s actualizado que la grafica.png, entonces al poner el comando \"make\" en consola, el makefile me ejecutara automaticamente el graficador.py para que me genere la gr\u00e1fica actualizada."
     ]
    },
    {
     "cell_type": "heading",
     "level": 4,
     "metadata": {},
     "source": [
      "EJEMPLO 2:  "
     ]
    },
    {
     "cell_type": "markdown",
     "metadata": {},
     "source": [
      "\n",
      "\n",
      "```\n",
      "\n",
      "columna_3.dat:   data_test.csv\n",
      "\n",
      "    awk -F \"\\\"*,\\\"'{print $3}' data_test.csv > columna_3.dat\n",
      "```\n",
      "En este caso, si yo modifiqu\u00e9 el archivo data_test.csv, otro archivo que depende de este (columna_3.dat) estar\u00e1 desactualizado, entonces al poner \"make\" en la consola el makefile me buscar\u00e1 con el comando awk -F en el archivo .csv la columna 3 de este para actualizar la informaci\u00f3n del archivo columna_3.dat  \n",
      "\n"
     ]
    },
    {
     "cell_type": "heading",
     "level": 4,
     "metadata": {},
     "source": [
      "EJEMPLO 3: DOS CONDICIONES"
     ]
    },
    {
     "cell_type": "markdown",
     "metadata": {},
     "source": [
      "\n",
      "```\n",
      "columna_3.dat:   data_test.csv\n",
      "    awk -F \"\\\"*,\\\"'{print $3}' data_test.csv > columna_3.dat\n",
      "\n",
      "columna_4.dat:   data_test.csv\n",
      "    awk -F \"\\\"*,\\\"'{print $4}' data_test.csv > columna_3.dat\n",
      "```\n",
      "\n",
      "\n",
      "si uno modifica el archivo data_test.csv, en este caso al ejecutar el \"make\", solo me va a actualizar la primera indicaci\u00f3n que est\u00e1 en el makefile \"actualizar columna 3\".\n",
      "\n",
      "puedo hacer esto al ejecutar el make en consola:   \n",
      "\n",
      "make -f makefile columna_4.dat  \n",
      "\n",
      "ac\u00e1 me ejecutar\u00e1 el columna 4, pero ... que pasa cuando tengo 100000 archivos, como ser m\u00e1s eficiente?\n"
     ]
    },
    {
     "cell_type": "heading",
     "level": 4,
     "metadata": {},
     "source": [
      "EJEMPLO 4:"
     ]
    },
    {
     "cell_type": "markdown",
     "metadata": {},
     "source": [
      "\n",
      "```\n",
      "all: columna_4.dat columna_3.dat\n",
      "\n",
      "columna_3.dat:   data_test.csv\n",
      "    awk -F \"\\\"*,\\\"'{print $3}' data_test.csv > columna_3.dat\n",
      "\n",
      "columna_4.dat:   data_test.csv\n",
      "    awk -F \"\\\"*,\\\"'{print $4}' data_test.csv > columna_3.dat\n",
      "```\n",
      "\n",
      "\n",
      "hacer los 2 :D  \n",
      "No importa el orden!! :D :D  \n",
      "\n"
     ]
    },
    {
     "cell_type": "heading",
     "level": 4,
     "metadata": {},
     "source": [
      "EJEMPLO 5:"
     ]
    },
    {
     "cell_type": "markdown",
     "metadata": {},
     "source": [
      "\n",
      "```\n",
      "clean: \n",
      "    rm -f columna_4.dat calomna_3.dat\n",
      "```\n",
      "\n",
      "siempre me va a hacer porque no tiene requirement  \n",
      "\n",
      "puedo mezclar clean y all  \n"
     ]
    },
    {
     "cell_type": "heading",
     "level": 4,
     "metadata": {},
     "source": [
      "EJEMPLO 6:"
     ]
    },
    {
     "cell_type": "markdown",
     "metadata": {},
     "source": [
      "\n",
      "a.out:  main.c geometry.c io.c .. tres archivos que tienen todo el c\u00f3digo si cambio uno, tiene que actualizarme.\n",
      "\n",
      "    cc main.c geometry.c io.c -lm (-lm es para que funcione la libreria de math.h porque use por pow la potencia)\n",
      "\n",
      "va a crear el archivo a.out  y va los va a hacer\n",
      "\n",
      "si actualizo el main que es el requirement entonces me va a compilar\n"
     ]
    },
    {
     "cell_type": "heading",
     "level": 4,
     "metadata": {},
     "source": [
      "Nivel 7"
     ]
    },
    {
     "cell_type": "markdown",
     "metadata": {},
     "source": [
      "Compilar por separado cc -c, para unir se cojen los .o  (intermedio--- objeto)\n",
      "```\n",
      "all: a.out\n",
      "\n",
      "a.out: main.o geometry.o io.o\n",
      "    cc main.o geomtry.o io.o -lm\n",
      "\n",
      "main.o: main.c\n",
      "\n",
      "    cc -c main.c\n",
      "\n",
      "io.o: io.c\n",
      "\n",
      "    cc -c main.c\n",
      "\n",
      "geometry.o: geomtry.c\n",
      "\n",
      "    cc -c main.c\n",
      "    \n",
      "```"
     ]
    },
    {
     "cell_type": "code",
     "collapsed": false,
     "input": [],
     "language": "python",
     "metadata": {},
     "outputs": []
    }
   ],
   "metadata": {}
  }
 ]
}